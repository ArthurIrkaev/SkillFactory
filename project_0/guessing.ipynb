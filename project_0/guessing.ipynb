{
 "cells": [
  {
   "cell_type": "markdown",
   "metadata": {},
   "source": [
    "#### Угадываем число от 1 до 100, загаданное компьютером."
   ]
  },
  {
   "cell_type": "markdown",
   "metadata": {},
   "source": [
    "Импортируем модуль **guessing_numbers** и его объекты **guess**, **average_tries**."
   ]
  },
  {
   "cell_type": "code",
   "execution_count": 7,
   "metadata": {},
   "outputs": [],
   "source": [
    "import numpy as np\n",
    "import guessing_numbers\n",
    "from guessing_numbers import guess, average_tries\n"
   ]
  },
  {
   "cell_type": "markdown",
   "metadata": {},
   "source": [
    "Функция **guess** угадывает число, и принимает 3и аргумента:\n",
    "- smallest - начало диапазона, по умолчанию = 1;\n",
    "- lagest - конец диапазона, по умолчанию = 101;\n",
    "- number - загадываемое число из заданого диапазона, по умолчанию = 1."
   ]
  },
  {
   "cell_type": "code",
   "execution_count": 17,
   "metadata": {},
   "outputs": [
    {
     "name": "stdout",
     "output_type": "stream",
     "text": [
      "Число 1 найдено за 7 попытки(ок).\n",
      "Число 32 найдено за 4 попыток(ки).\n"
     ]
    }
   ],
   "source": [
    "# Угадаем число со значениями функции guess по умолчанию\n",
    "print(f'Число 1 найдено за {guess()} попытки(ок).')\n",
    "# Загадаем случайное число от 1 до 100\n",
    "rand_number = np.random.randint(1, 101)\n",
    "print(f'Число {rand_number} найдено за {guess(number = rand_number)} попыток(ки).')\n"
   ]
  },
  {
   "cell_type": "markdown",
   "metadata": {},
   "source": [
    "Функция **average_tries** расчитывает среднее количество попыток, и принимает 3и аргумента:\n",
    "- smallest - начало диапазона, по умолчанию = 1;\n",
    "- lagest - конец диапазона, по умолчанию = 101;\n",
    "- func - функция угадывания числа, по умолчанию = guess."
   ]
  },
  {
   "cell_type": "code",
   "execution_count": 9,
   "metadata": {},
   "outputs": [
    {
     "name": "stdout",
     "output_type": "stream",
     "text": [
      "Алгоритм угадывает число в среднем за 5 попыток.\n"
     ]
    }
   ],
   "source": [
    "print(f'Алгоритм угадывает число в среднем за {average_tries()} попыток.')\n"
   ]
  }
 ],
 "metadata": {
  "interpreter": {
   "hash": "aee8b7b246df8f9039afb4144a1f6fd8d2ca17a180786b69acc140d282b71a49"
  },
  "kernelspec": {
   "display_name": "Python 3.9.10 64-bit",
   "language": "python",
   "name": "python3"
  },
  "language_info": {
   "codemirror_mode": {
    "name": "ipython",
    "version": 3
   },
   "file_extension": ".py",
   "mimetype": "text/x-python",
   "name": "python",
   "nbconvert_exporter": "python",
   "pygments_lexer": "ipython3",
   "version": "3.9.10"
  },
  "orig_nbformat": 4
 },
 "nbformat": 4,
 "nbformat_minor": 2
}
